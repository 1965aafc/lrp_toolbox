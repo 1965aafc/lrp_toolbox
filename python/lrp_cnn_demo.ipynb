{
 "cells": [
  {
   "cell_type": "code",
   "execution_count": 1,
   "metadata": {
    "collapsed": true
   },
   "outputs": [],
   "source": [
    "import time\n",
    "import numpy as np\n",
    "import matplotlib.pyplot as plt\n",
    "import mxnet as mx\n",
    "from mxnet import nd\n",
    "\n",
    "import model_io_mx as model_io\n",
    "import data_io\n",
    "\n",
    "# from apply_heatmap import apply_colormap\n",
    "\n",
    "from render import hm_to_rgb\n",
    "\n",
    "na = np.newaxis"
   ]
  },
  {
   "cell_type": "markdown",
   "metadata": {},
   "source": [
    "# LRP MX Convolution Demo"
   ]
  },
  {
   "cell_type": "markdown",
   "metadata": {},
   "source": [
    "### 1) Load Data"
   ]
  },
  {
   "cell_type": "code",
   "execution_count": 2,
   "metadata": {},
   "outputs": [
    {
     "name": "stdout",
     "output_type": "stream",
     "text": [
      "loading np-formatted data from ../data/MNIST/train_images.npy\n",
      "loading np-formatted data from ../data/MNIST/train_labels.npy\n",
      "loading np-formatted data from ../data/MNIST/test_images.npy\n",
      "loading np-formatted data from ../data/MNIST/test_labels.npy\n"
     ]
    }
   ],
   "source": [
    "Xtrain = data_io.read('../data/MNIST/train_images.npy')\n",
    "Ytrain = data_io.read('../data/MNIST/train_labels.npy')\n",
    "\n",
    "Xtest = data_io.read('../data/MNIST/test_images.npy')\n",
    "Ytest = data_io.read('../data/MNIST/test_labels.npy')\n",
    "\n",
    "#transfer the pixel values from [0 255] to [-1 1]\n",
    "Xtrain = Xtrain / 127.5 -1\n",
    "Xtest = Xtest / 127.5 -1\n",
    "\n",
    "#transform numeric class labels to indicator vectors.\n",
    "I = Ytrain[:,0].astype(int)\n",
    "Ytrain = np.zeros([Xtrain.shape[0],np.unique(Ytrain).size])\n",
    "Ytrain[np.arange(Ytrain.shape[0]),I] = 1\n",
    "\n",
    "I = Ytest[:,0].astype(int)\n",
    "Ytest = np.zeros([Xtest.shape[0],np.unique(Ytest).size])\n",
    "Ytest[np.arange(Ytest.shape[0]),I] = 1"
   ]
  },
  {
   "cell_type": "markdown",
   "metadata": {},
   "source": [
    "### 2) Load Model and Preprocess Data"
   ]
  },
  {
   "cell_type": "code",
   "execution_count": 3,
   "metadata": {},
   "outputs": [
    {
     "name": "stdout",
     "output_type": "stream",
     "text": [
      "loading plain text model from ../models/MNIST/LeNet-5.txt\n"
     ]
    }
   ],
   "source": [
    "# ctx = mx.cpu()\n",
    "ctx = mx.gpu(0)\n",
    "\n",
    "# load pre-trained model from txt file\n",
    "lenet_model_path='../models/MNIST/LeNet-5.txt'\n",
    "lenet = model_io.read(lenet_model_path, ctx=ctx)\n",
    "\n",
    "# pad and reshape reshape convnet input and create mxnet ndarray:\n",
    "Xtrain = Xtrain.reshape(-1, 28, 28,1)\n",
    "Xtrain_padded = np.pad(Xtrain,((0,0),(2,2),(2,2),(0,0)), 'constant', constant_values = (-1.,))\n",
    "Xtrain_mx = nd.array(Xtrain_padded, ctx=ctx)\n",
    "Ytrain_mx = nd.array(Ytrain, ctx=ctx)\n",
    "\n",
    "Xtest = Xtest.reshape(-1, 28, 28, 1)\n",
    "Xtest_padded = np.pad(Xtest,((0,0),(2,2),(2,2),(0,0)), 'constant', constant_values = (-1.,))\n",
    "Xtest_mx  = nd.array(Xtest_padded,  ctx=ctx)\n",
    "Ytest_mx  = nd.array(Ytest,  ctx=ctx)"
   ]
  },
  {
   "cell_type": "markdown",
   "metadata": {},
   "source": [
    "### 3) Prediction and Explanation"
   ]
  },
  {
   "cell_type": "code",
   "execution_count": 4,
   "metadata": {},
   "outputs": [
    {
     "name": "stdout",
     "output_type": "stream",
     "text": [
      "Calculated prediction and LRP scores for 5 images in 0.933939933777\n"
     ]
    }
   ],
   "source": [
    "num_images = 5\n",
    "lrp_type  = 'epsilon'\n",
    "lrp_param = .000001\n",
    "\n",
    "target = -1 # < 0 means top class\n",
    "\n",
    "input_batch = Xtrain_mx[0:num_images]\n",
    "\n",
    "# forward pass and lrp calculation\n",
    "strt        = time.time()\n",
    "predictions = lenet.forward(input_batch)\n",
    "\n",
    "if target >=0:\n",
    "    init_rel = ((nd.arange(10, ctx=ctx) == target) * 1.0).reshape((1, 10))\n",
    "    init_rel = nd.broadcast_to(init_rel, (num_images, 10))\n",
    "else:\n",
    "    ranges       = nd.arange(10  , ctx=ctx)\n",
    "    best_classes = nd.expand_dims(nd.argmax(predictions, axis=1), 1) * nd.ones((num_images, 10), ctx=ctx)\n",
    "    init_rel = predictions * (ranges == best_classes)\n",
    "\n",
    "relevance   = lenet.lrp(init_rel, lrp_type, lrp_param)\n",
    "\n",
    "relevance.wait_to_read()\n",
    "\n",
    "stp = time.time()\n",
    "\n",
    "print('Calculated prediction and LRP scores for {} images in {}'.format(input_batch.shape[0], stp-strt))"
   ]
  },
  {
   "cell_type": "code",
   "execution_count": 6,
   "metadata": {},
   "outputs": [
    {
     "data": {
      "image/png": "[encoded data removed]",
      "text/plain": [
       "<matplotlib.figure.Figure at 0x7fc03eb3d910>"
      ]
     },
     "metadata": {},
     "output_type": "display_data"
    },
    {
     "data": {
      "image/png": "[encoded data removed]",
      "text/plain": [
       "<matplotlib.figure.Figure at 0x7fc03ed4df90>"
      ]
     },
     "metadata": {},
     "output_type": "display_data"
    },
    {
     "data": {
      "image/png": "[encoded data removed]",
      "text/plain": [
       "<matplotlib.figure.Figure at 0x7fc03e9d4cd0>"
      ]
     },
     "metadata": {},
     "output_type": "display_data"
    },
    {
     "data": {
      "image/png": "[encoded data removed]",
      "text/plain": [
       "<matplotlib.figure.Figure at 0x7fc0382d5fd0>"
      ]
     },
     "metadata": {},
     "output_type": "display_data"
    },
    {
     "data": {
      "image/png": "[encoded data removed]",
      "text/plain": [
       "<matplotlib.figure.Figure at 0x7fc03828f950>"
      ]
     },
     "metadata": {},
     "output_type": "display_data"
    }
   ],
   "source": [
    "for i in range(num_images):\n",
    "    # presentation\n",
    "    plt.subplot(1,2,1)\n",
    "    plt.imshow(Xtrain_mx[i].asnumpy().reshape(32, 32), cmap='gray', interpolation='none')\n",
    "    plt.title('Newtork input')\n",
    "    plt.axis('off')\n",
    "    \n",
    "    \n",
    "    # process rawhm\n",
    "    rawhm = relevance[i].asnumpy().reshape(32, 32)\n",
    "    \n",
    "    heatmap = hm_to_rgb(rawhm, cmap='seismic')\n",
    "    \n",
    "    plt.subplot(1,2,2)\n",
    "    plt.imshow(heatmap)\n",
    "    plt.axis('off')\n",
    "    plt.title('Hm for class {}'.format(int(nd.argmax(init_rel, axis=1)[i].asnumpy()[0])))\n",
    "    \n",
    "    plt.show()"
   ]
  }
 ],
 "metadata": {
  "kernelspec": {
   "display_name": "Python 2",
   "language": "python",
   "name": "python2"
  },
  "language_info": {
   "codemirror_mode": {
    "name": "ipython",
    "version": 2
   },
   "file_extension": ".py",
   "mimetype": "text/x-python",
   "name": "python",
   "nbconvert_exporter": "python",
   "pygments_lexer": "ipython2",
   "version": "2.7.12"
  }
 },
 "nbformat": 4,
 "nbformat_minor": 2
}

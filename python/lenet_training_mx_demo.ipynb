{
 "cells": [
  {
   "cell_type": "code",
   "execution_count": 1,
   "metadata": {
    "collapsed": true
   },
   "outputs": [],
   "source": [
    "import copy\n",
    "import sys\n",
    "import numpy as np\n",
    "import time\n",
    "from modules.module import Module\n",
    "\n",
    "from modules import Sequential as Sequential_np\n",
    "from modules import SoftMax    as SoftMax_np\n",
    "from modules import Linear     as Linear_np\n",
    "\n",
    "import matplotlib.pyplot as plt\n",
    "\n",
    "import data_io, model_io\n",
    "import model_io_mx\n",
    "\n",
    "# mxnet:\n",
    "import mxnet as mx\n",
    "from mxnet import ndarray as nd\n",
    "\n",
    "from mxmodules import Convolution\n",
    "from mxmodules import SumPool\n",
    "from mxmodules import Sequential\n",
    "from mxmodules import SoftMax\n",
    "from mxmodules import Linear\n",
    "from mxmodules import Rect\n",
    "from mxmodules import Flatten"
   ]
  },
  {
   "cell_type": "code",
   "execution_count": 2,
   "metadata": {},
   "outputs": [
    {
     "name": "stdout",
     "output_type": "stream",
     "text": [
      "loading np-formatted data from ../data/MNIST/train_images.npy\n",
      "loading np-formatted data from ../data/MNIST/train_labels.npy\n",
      "loading np-formatted data from ../data/MNIST/test_images.npy\n",
      "loading np-formatted data from ../data/MNIST/test_labels.npy\n"
     ]
    }
   ],
   "source": [
    "Xtrain = data_io.read('../data/MNIST/train_images.npy')\n",
    "Ytrain = data_io.read('../data/MNIST/train_labels.npy')\n",
    "\n",
    "Xtest = data_io.read('../data/MNIST/test_images.npy')\n",
    "Ytest = data_io.read('../data/MNIST/test_labels.npy')\n",
    "\n",
    "#transfer the pixel values from [0 255] to [-1 1]\n",
    "Xtrain = Xtrain / 127.5 -1\n",
    "Xtest = Xtest / 127.5 -1\n",
    "\n",
    "#transform numeric class labels to indicator vectors.\n",
    "I = Ytrain[:,0].astype(int)\n",
    "Ytrain = np.zeros([Xtrain.shape[0],np.unique(Ytrain).size])\n",
    "Ytrain[np.arange(Ytrain.shape[0]),I] = 1\n",
    "\n",
    "I = Ytest[:,0].astype(int)\n",
    "Ytest = np.zeros([Xtest.shape[0],np.unique(Ytest).size])\n",
    "Ytest[np.arange(Ytest.shape[0]),I] = 1"
   ]
  },
  {
   "cell_type": "markdown",
   "metadata": {},
   "source": [
    "### Model and Context Definition"
   ]
  },
  {
   "cell_type": "code",
   "execution_count": 3,
   "metadata": {
    "collapsed": true
   },
   "outputs": [],
   "source": [
    "# ctx = mx.cpu()\n",
    "ctx = mx.gpu(0)\n",
    "\n",
    "#model a network according to LeNet-5 architecture\n",
    "lenet = Sequential([\n",
    "                Convolution(filtersize=(5,5,1,10),stride = (1,1), ctx=ctx),\\\n",
    "                Rect(),\\\n",
    "                SumPool(pool=(2,2),stride=(2,2), ctx=ctx),\\\n",
    "                Convolution(filtersize=(5,5,10,25),stride = (1,1), ctx=ctx),\\\n",
    "                Rect(),\\\n",
    "                SumPool(pool=(2,2),stride=(2,2), ctx=ctx),\\\n",
    "                Convolution(filtersize=(4,4,25,100),stride = (1,1), ctx=ctx),\\\n",
    "                Rect(),\\\n",
    "                SumPool(pool=(2,2),stride=(2,2), ctx=ctx),\\\n",
    "                Convolution(filtersize=(1,1,100,10),stride = (1,1), ctx=ctx),\\\n",
    "                Flatten(),\\\n",
    "                SoftMax()\n",
    "            ])"
   ]
  },
  {
   "cell_type": "code",
   "execution_count": 4,
   "metadata": {
    "collapsed": true
   },
   "outputs": [],
   "source": [
    "# pad and reshape reshape convnet input and create mxnet ndarray:\n",
    "Xtrain = Xtrain.reshape(-1, 28, 28,1)\n",
    "Xtrain = np.pad(Xtrain,((0,0),(2,2),(2,2),(0,0)), 'constant', constant_values = (-1.,))\n",
    "Xtrain_mx = nd.array(Xtrain, ctx=ctx)\n",
    "Ytrain_mx = nd.array(Ytrain, ctx=ctx)\n",
    "\n",
    "Xtest = Xtest.reshape(-1, 28, 28, 1)# [:1000] # TODO: attention: test set clipped\n",
    "Xtest = np.pad(Xtest,((0,0),(2,2),(2,2),(0,0)), 'constant', constant_values = (-1.,))\n",
    "Xtest_mx  = nd.array(Xtest,  ctx=ctx)\n",
    "Ytest_mx  = nd.array(Ytest,  ctx=ctx)"
   ]
  },
  {
   "cell_type": "markdown",
   "metadata": {},
   "source": [
    "### Training"
   ]
  },
  {
   "cell_type": "code",
   "execution_count": 5,
   "metadata": {
    "scrolled": false
   },
   "outputs": [
    {
     "name": "stdout",
     "output_type": "stream",
     "text": [
      "Setting network parameters to best encountered network state with 0.0% accuracy and a loss of 9223372036854775807 from iteration 0.\n",
      "Trained LeNet network in 5.03852701187s\n"
     ]
    }
   ],
   "source": [
    "#train the network.\n",
    "\n",
    "strt = time.time()\n",
    "\n",
    "#train the network.\n",
    "lenet.train(   X=Xtrain_mx,\\\n",
    "                Y=Ytrain_mx,\\\n",
    "                Xval=Xtest_mx,\\\n",
    "                Yval=Ytest_mx,\\\n",
    "                iters=10**1,\\\n",
    "                lrate=0.001,\\\n",
    "                status=500,\\\n",
    "                batchsize=256)\n",
    "\n",
    "stp = time.time()\n",
    "\n",
    "print('Trained LeNet network in {}s'.format(stp - strt))"
   ]
  },
  {
   "cell_type": "code",
   "execution_count": 6,
   "metadata": {
    "collapsed": true
   },
   "outputs": [],
   "source": [
    "# model_io_mx.write(lenet, 'lenet')"
   ]
  },
  {
   "cell_type": "code",
   "execution_count": 10,
   "metadata": {},
   "outputs": [
    {
     "name": "stdout",
     "output_type": "stream",
     "text": [
      "loading pickled model from lenet_selbertrain\n"
     ]
    }
   ],
   "source": [
    "# lenet_now_trained = lenet\n",
    "lenet = model_io_mx.read('lenet')"
   ]
  },
  {
   "cell_type": "markdown",
   "metadata": {},
   "source": [
    "### LRP Heatmapping"
   ]
  },
  {
   "cell_type": "code",
   "execution_count": 11,
   "metadata": {},
   "outputs": [
    {
     "name": "stdout",
     "output_type": "stream",
     "text": [
      "Calculated prediction and LRP scores for 25 images in 1.47194886208\n"
     ]
    }
   ],
   "source": [
    "num_images = 25\n",
    "num_images_to_show = 5\n",
    "\n",
    "target = 1\n",
    "init_rel = ((nd.arange(10, ctx=ctx) == target) * 1.0).reshape((1, 10))\n",
    "init_rel = nd.broadcast_to(init_rel, (num_images, 10))\n",
    "\n",
    "input_batch = Xtrain_mx[0:num_images]\n",
    "\n",
    "# forward pass and lrp calculation\n",
    "strt        = time.time()\n",
    "predictions = lenet.forward(input_batch)\n",
    "relevance   = lenet.lrp(init_rel)\n",
    "\n",
    "relevance.wait_to_read()\n",
    "\n",
    "stp = time.time()\n",
    "\n",
    "print('Calculated prediction and LRP scores for {} images in {}'.format(input_batch.shape[0], stp-strt))"
   ]
  },
  {
   "cell_type": "code",
   "execution_count": 12,
   "metadata": {},
   "outputs": [
    {
     "data": {
      "image/png": "[encoded data removed]",
      "text/plain": [
       "<matplotlib.figure.Figure at 0x7f5ddb8d4990>"
      ]
     },
     "metadata": {},
     "output_type": "display_data"
    },
    {
     "data": {
      "image/png": "[encoded data removed]",
      "text/plain": [
       "<matplotlib.figure.Figure at 0x7f5d4004da50>"
      ]
     },
     "metadata": {},
     "output_type": "display_data"
    },
    {
     "data": {
      "image/png": "[encoded data removed]",
      "text/plain": [
       "<matplotlib.figure.Figure at 0x7f5d34627b10>"
      ]
     },
     "metadata": {},
     "output_type": "display_data"
    },
    {
     "data": {
      "image/png": "[encoded data removed]",
      "text/plain": [
       "<matplotlib.figure.Figure at 0x7f5d34608790>"
      ]
     },
     "metadata": {},
     "output_type": "display_data"
    },
    {
     "data": {
      "image/png": "[encoded data removed]",
      "text/plain": [
       "<matplotlib.figure.Figure at 0x7f5d4abcd1d0>"
      ]
     },
     "metadata": {},
     "output_type": "display_data"
    }
   ],
   "source": [
    "for i in range(num_images_to_show):\n",
    "\n",
    "    # presentation\n",
    "    plt.subplot(1,2,1)\n",
    "    plt.imshow(Xtrain_mx[i].asnumpy().reshape(32, 32), cmap='gray')\n",
    "    plt.axis('off')\n",
    "\n",
    "    plt.subplot(1,2,2)\n",
    "    plt.imshow(relevance[i].asnumpy().reshape(32, 32), cmap='seismic')\n",
    "    plt.axis('off')\n",
    "    plt.show()"
   ]
  },
  {
   "cell_type": "code",
   "execution_count": null,
   "metadata": {
    "collapsed": true
   },
   "outputs": [],
   "source": []
  }
 ],
 "metadata": {
  "kernelspec": {
   "display_name": "Python 2",
   "language": "python",
   "name": "python2"
  },
  "language_info": {
   "codemirror_mode": {
    "name": "ipython",
    "version": 2
   },
   "file_extension": ".py",
   "mimetype": "text/x-python",
   "name": "python",
   "nbconvert_exporter": "python",
   "pygments_lexer": "ipython2",
   "version": "2.7.12"
  }
 },
 "nbformat": 4,
 "nbformat_minor": 2
}

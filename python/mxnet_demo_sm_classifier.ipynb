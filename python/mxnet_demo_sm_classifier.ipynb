{
 "cells": [
  {
   "cell_type": "markdown",
   "metadata": {},
   "source": [
    "# Simple Softmax Demo Using MXNET"
   ]
  },
  {
   "cell_type": "markdown",
   "metadata": {},
   "source": [
    "This notebook compares the mxnet and numpy versions of the python toolbox on the basis of the first few modules translated from numpy to mxnet."
   ]
  },
  {
   "cell_type": "code",
   "execution_count": 1,
   "metadata": {
    "collapsed": true
   },
   "outputs": [],
   "source": [
    "import numpy as np\n",
    "import time\n",
    "\n",
    "from modules import Sequential as Sequential_np\n",
    "from modules import SoftMax    as SoftMax_np\n",
    "from modules import Linear     as Linear_np\n",
    "\n",
    "import matplotlib.pyplot as plt\n",
    "\n",
    "import data_io\n",
    "# mxnet:\n",
    "import mxnet as mx\n",
    "from mxnet import ndarray as nd\n",
    "\n",
    "from mxmodules import Sequential\n",
    "from mxmodules import SoftMax\n",
    "from mxmodules import Linear"
   ]
  },
  {
   "cell_type": "code",
   "execution_count": 2,
   "metadata": {},
   "outputs": [
    {
     "name": "stdout",
     "output_type": "stream",
     "text": [
      "loading np-formatted data from ../data/MNIST/train_images.npy\n",
      "loading np-formatted data from ../data/MNIST/train_labels.npy\n",
      "loading np-formatted data from ../data/MNIST/test_images.npy\n",
      "loading np-formatted data from ../data/MNIST/test_labels.npy\n"
     ]
    }
   ],
   "source": [
    "Xtrain = data_io.read('../data/MNIST/train_images.npy')\n",
    "Ytrain = data_io.read('../data/MNIST/train_labels.npy')\n",
    "\n",
    "Xtest = data_io.read('../data/MNIST/test_images.npy')\n",
    "Ytest = data_io.read('../data/MNIST/test_labels.npy')\n",
    "\n",
    "#transfer the pixel values from [0 255] to [-1 1]\n",
    "Xtrain = Xtrain / 127.5 -1\n",
    "Xtest = Xtest / 127.5 -1\n",
    "\n",
    "#transform numeric class labels to indicator vectors.\n",
    "I = Ytrain[:,0].astype(int)\n",
    "Ytrain = np.zeros([Xtrain.shape[0],np.unique(Ytrain).size])\n",
    "Ytrain[np.arange(Ytrain.shape[0]),I] = 1\n",
    "\n",
    "I = Ytest[:,0].astype(int)\n",
    "Ytest = np.zeros([Xtest.shape[0],np.unique(Ytest).size])\n",
    "Ytest[np.arange(Ytest.shape[0]),I] = 1"
   ]
  },
  {
   "cell_type": "markdown",
   "metadata": {},
   "source": [
    "### Train MXNET Implementation"
   ]
  },
  {
   "cell_type": "code",
   "execution_count": 3,
   "metadata": {
    "collapsed": true
   },
   "outputs": [],
   "source": [
    "# choose context\n",
    "var_ctx = 'gpu'\n",
    "\n",
    "if var_ctx == 'gpu':\n",
    "    ctx = mx.gpu()\n",
    "else:\n",
    "    ctx = mx.cpu()\n",
    "\n",
    "sm_classifier_mx = Sequential([Linear(28*28, 10, ctx=ctx), SoftMax(ctx=ctx)])"
   ]
  },
  {
   "cell_type": "code",
   "execution_count": 4,
   "metadata": {
    "collapsed": true
   },
   "outputs": [],
   "source": [
    "Xtrain_mx = nd.array(Xtrain, ctx=ctx)\n",
    "Ytrain_mx = nd.array(Ytrain, ctx=ctx)\n",
    "Xtest_mx  = nd.array(Xtest,  ctx=ctx)\n",
    "Ytest_mx  = nd.array(Ytest,  ctx=ctx)"
   ]
  },
  {
   "cell_type": "code",
   "execution_count": 5,
   "metadata": {
    "scrolled": true
   },
   "outputs": [
    {
     "name": "stdout",
     "output_type": "stream",
     "text": [
      "batch# 500, lrate 0.001, l1-loss 0.9051\n",
      "batch# 1000, lrate 0.001, l1-loss 0.6851\n",
      "batch# 1500, lrate 0.001, l1-loss 0.6404\n",
      "batch# 2000, lrate 0.001, l1-loss 0.476\n",
      "batch# 2500, lrate 0.001, l1-loss 0.5454\n",
      "batch# 3000, lrate 0.001, l1-loss 0.4351\n",
      "batch# 3500, lrate 0.001, l1-loss 0.507\n",
      "batch# 4000, lrate 0.001, l1-loss 0.4135\n",
      "batch# 4500, lrate 0.001, l1-loss 0.4726\n",
      "Accuracy after 5000 iterations on training data: 89.7650003433% (l1-loss: 0.4009)\n",
      "    New loss-optimal parameter set encountered. saving....\n",
      "    Estimate time until current training ends : 0d 0h 0m 4s (50.00% done)\n",
      "batch# 5500, lrate 0.001, l1-loss 0.4549\n",
      "batch# 6000, lrate 0.001, l1-loss 0.3605\n",
      "batch# 6500, lrate 0.001, l1-loss 0.4453\n",
      "batch# 7000, lrate 0.001, l1-loss 0.3536\n",
      "batch# 7500, lrate 0.001, l1-loss 0.4231\n",
      "batch# 8000, lrate 0.001, l1-loss 0.3332\n",
      "batch# 8500, lrate 0.001, l1-loss 0.4168\n",
      "batch# 9000, lrate 0.001, l1-loss 0.3278\n",
      "batch# 9500, lrate 0.001, l1-loss 0.4165\n",
      "Accuracy after 10000 iterations on training data: 90.5399978161% (l1-loss: 0.346)\n",
      "    New loss-optimal parameter set encountered. saving....\n",
      "    Estimate time until current training ends : 0d 0h 0m 0s (100.00% done)\n",
      "Setting network parameters to best encountered network state with 90.5399978161% accuracy and a loss of 0.346018612385 from iteration 9999.\n",
      "MXNET: Trained simple SM classifier in 9.43571805954s\n"
     ]
    }
   ],
   "source": [
    "strt = time.time()\n",
    "\n",
    "sm_classifier_mx.train( X=Xtrain_mx,\\\n",
    "                        Y=Ytrain_mx,\\\n",
    "                        Xval=None,\\\n",
    "                        Yval=None,\\\n",
    "                        iters=10000,\\\n",
    "                        lrate=0.001,\\\n",
    "                        batchsize=100,\n",
    "                        status=5000)\n",
    "\n",
    "stp = time.time()\n",
    "\n",
    "train_time_mx = stp-strt\n",
    "\n",
    "print('MXNET: Trained simple SM classifier in {}s'.format(train_time_mx))"
   ]
  },
  {
   "cell_type": "markdown",
   "metadata": {},
   "source": [
    "### Train Numpy implementation:"
   ]
  },
  {
   "cell_type": "code",
   "execution_count": 6,
   "metadata": {
    "collapsed": true
   },
   "outputs": [],
   "source": [
    "sm_classifier_np = Sequential_np([Linear_np(784, 10), SoftMax_np()])"
   ]
  },
  {
   "cell_type": "code",
   "execution_count": 7,
   "metadata": {
    "scrolled": true
   },
   "outputs": [
    {
     "name": "stdout",
     "output_type": "stream",
     "text": [
      "batch# 500, lrate 0.001, l1-loss 0.7974\n",
      "batch# 1000, lrate 0.001, l1-loss 0.6036\n",
      "batch# 1500, lrate 0.001, l1-loss 0.4518\n",
      "batch# 2000, lrate 0.001, l1-loss 0.5807\n",
      "batch# 2500, lrate 0.001, l1-loss 0.572\n",
      "batch# 3000, lrate 0.001, l1-loss 0.5435\n",
      "batch# 3500, lrate 0.001, l1-loss 0.4802\n",
      "batch# 4000, lrate 0.001, l1-loss 0.4335\n",
      "batch# 4500, lrate 0.001, l1-loss 0.4495\n",
      "Accuracy after 5000 iterations on training data: 89.6516666667% (l1-loss: 0.4002)\n",
      "    New loss-optimal parameter set encountered. saving....\n",
      "    Estimate time until current training ends : 0d 0h 0m 13s (50.00% done)\n",
      "batch# 5500, lrate 0.001, l1-loss 0.3488\n",
      "batch# 6000, lrate 0.001, l1-loss 0.3554\n",
      "batch# 6500, lrate 0.001, l1-loss 0.3479\n",
      "batch# 7000, lrate 0.001, l1-loss 0.3956\n",
      "batch# 7500, lrate 0.001, l1-loss 0.3315\n",
      "batch# 8000, lrate 0.001, l1-loss 0.3697\n",
      "batch# 8500, lrate 0.001, l1-loss 0.3337\n",
      "batch# 9000, lrate 0.001, l1-loss 0.3307\n",
      "batch# 9500, lrate 0.001, l1-loss 0.3209\n",
      "Accuracy after 10000 iterations on training data: 90.7466666667% (l1-loss: 0.3452)\n",
      "    New loss-optimal parameter set encountered. saving....\n",
      "    Estimate time until current training ends : 0d 0h 0m 0s (100.00% done)\n",
      "Setting network parameters to best encountered network state with 90.7466666667% accuracy and a loss of 0.345182797254 from iteration 9999.\n",
      "NUMPY: Trained simple SM classifier in 27.8332161903s\n"
     ]
    }
   ],
   "source": [
    "strt = time.time()\n",
    "\n",
    "sm_classifier_np.train( X=Xtrain,\\\n",
    "                        Y=Ytrain,\\\n",
    "                        Xval=[],\\\n",
    "                        Yval=[],\\\n",
    "                        iters=10000,\\\n",
    "                        lrate=0.001,\\\n",
    "                        batchsize=100,\n",
    "                        status=5000)\n",
    "stp = time.time()\n",
    "\n",
    "train_time_np = stp-strt\n",
    "\n",
    "print('NUMPY: Trained simple SM classifier in {}s'.format(train_time_np))"
   ]
  },
  {
   "cell_type": "code",
   "execution_count": 8,
   "metadata": {},
   "outputs": [
    {
     "name": "stdout",
     "output_type": "stream",
     "text": [
      "TRAIN speedup with mxnet impl on gpu: 2.94977192141\n"
     ]
    }
   ],
   "source": [
    "train_speedup_mx = train_time_np / train_time_mx \n",
    "\n",
    "print('TRAIN speedup with mxnet impl on {}: {}'.format(var_ctx, train_speedup_mx))"
   ]
  },
  {
   "cell_type": "markdown",
   "metadata": {},
   "source": [
    "### Heatmapping Comparison"
   ]
  },
  {
   "cell_type": "code",
   "execution_count": 9,
   "metadata": {
    "collapsed": true
   },
   "outputs": [],
   "source": [
    "num_images = 128\n",
    "num_images_to_show = 5\n",
    "\n",
    "target_class = 7"
   ]
  },
  {
   "cell_type": "code",
   "execution_count": 10,
   "metadata": {},
   "outputs": [
    {
     "name": "stdout",
     "output_type": "stream",
     "text": [
      "MXNET implementation:\n",
      "Calculated prediction and LRP scores for 128 images in 0.0136709213257\n"
     ]
    }
   ],
   "source": [
    "init_rel = ((nd.arange(10, ctx=ctx) == target_class) * 1.0).reshape((1, 10))\n",
    "init_rel = nd.broadcast_to(init_rel, (num_images, 10))\n",
    "\n",
    "input_batch = Xtrain_mx[:num_images]\n",
    "\n",
    "# forward pass and lrp calculation\n",
    "strt = time.time()\n",
    "out_mx    = sm_classifier_mx.forward(input_batch)\n",
    "relevance = sm_classifier_mx.lrp(init_rel)\n",
    "\n",
    "relevance.wait_to_read()\n",
    "\n",
    "stp = time.time()\n",
    "lrp_time_mx = stp-strt\n",
    "\n",
    "print('MXNET implementation:\\nCalculated prediction and LRP scores for {} images in {}'.format(input_batch.shape[0], lrp_time_mx))"
   ]
  },
  {
   "cell_type": "code",
   "execution_count": 11,
   "metadata": {},
   "outputs": [
    {
     "name": "stdout",
     "output_type": "stream",
     "text": [
      "NUMPY implementation:\n",
      "Calculated prediction and LRP scores for 128 images in 0.0507230758667\n"
     ]
    }
   ],
   "source": [
    "init_rel = np.array(np.arange(10) == target_class, dtype='int')[None,:]\n",
    "\n",
    "input_batch = Xtrain[:num_images]\n",
    "\n",
    "# forward pass and lrp calculation\n",
    "strt = time.time()\n",
    "\n",
    "out_np       = sm_classifier_np.forward(input_batch)\n",
    "relevance_np = sm_classifier_np.lrp(init_rel)\n",
    "\n",
    "stp = time.time()\n",
    "lrp_time_np = stp-strt\n",
    "\n",
    "print('NUMPY implementation:\\nCalculated prediction and LRP scores for {} images in {}'.format(input_batch.shape[0], lrp_time_np))"
   ]
  },
  {
   "cell_type": "code",
   "execution_count": 12,
   "metadata": {},
   "outputs": [
    {
     "name": "stdout",
     "output_type": "stream",
     "text": [
      "LRP speedup mxnet impl on gpu: 3.71028950122\n"
     ]
    }
   ],
   "source": [
    "lrp_speedup_mx = lrp_time_np / lrp_time_mx\n",
    "\n",
    "print('LRP speedup mxnet impl on {}: {}'.format(var_ctx, lrp_speedup_mx))"
   ]
  },
  {
   "cell_type": "code",
   "execution_count": 13,
   "metadata": {},
   "outputs": [
    {
     "name": "stdout",
     "output_type": "stream",
     "text": [
      "Pre-SM activations for the target class: 7\n",
      "MX: [ 1.06009483 -0.08321737 -0.05516186 -0.32576939  2.57050347]\n",
      "NP: [ 1.48753652 -0.19108173  0.176427   -0.13765438  2.41563797]\n"
     ]
    }
   ],
   "source": [
    "print('Pre-SM activations for the target class: {}'.format(target_class))\n",
    "print('MX: {}'.format(sm_classifier_mx.modules[-2].Y[:5,target_class].asnumpy()))\n",
    "print('NP: {}'.format(sm_classifier_np.modules[-2].Y[:5, target_class]))"
   ]
  },
  {
   "cell_type": "code",
   "execution_count": 14,
   "metadata": {},
   "outputs": [
    {
     "data": {
      "image/png": "[encoded data removed]",
      "text/plain": [
       "<matplotlib.figure.Figure at 0x7f3f542e9990>"
      ]
     },
     "metadata": {},
     "output_type": "display_data"
    },
    {
     "data": {
      "image/png": "[encoded data removed]",
      "text/plain": [
       "<matplotlib.figure.Figure at 0x7f3f4d82af90>"
      ]
     },
     "metadata": {},
     "output_type": "display_data"
    },
    {
     "data": {
      "image/png": "[encoded data removed]",
      "text/plain": [
       "<matplotlib.figure.Figure at 0x7f3f4d654f50>"
      ]
     },
     "metadata": {},
     "output_type": "display_data"
    },
    {
     "data": {
      "image/png": "[encoded data removed]",
      "text/plain": [
       "<matplotlib.figure.Figure at 0x7f4014d99550>"
      ]
     },
     "metadata": {},
     "output_type": "display_data"
    },
    {
     "data": {
      "image/png": "[encoded data removed]",
      "text/plain": [
       "<matplotlib.figure.Figure at 0x7f3f4d733f50>"
      ]
     },
     "metadata": {},
     "output_type": "display_data"
    }
   ],
   "source": [
    "for i in range(num_images_to_show):\n",
    "\n",
    "    # presentation\n",
    "    plt.subplot(1,3,1)\n",
    "    plt.imshow(Xtrain_mx[i].asnumpy().reshape(28, 28), cmap='gray')\n",
    "    plt.axis('off')\n",
    "\n",
    "    if i == 0:\n",
    "        plt.title('Input')\n",
    "    \n",
    "    plt.subplot(1,3,2)\n",
    "    plt.imshow(relevance[i].asnumpy().reshape(28, 28), cmap='seismic')\n",
    "    plt.axis('off')\n",
    "    \n",
    "    if i == 0:\n",
    "        plt.title('HM: mxnet')\n",
    "    \n",
    "    plt.subplot(1,3,3)\n",
    "    plt.imshow(relevance_np[i].reshape(28, 28), cmap='seismic')\n",
    "    plt.axis('off')\n",
    "    \n",
    "    if i == 0:\n",
    "        plt.title('HM: numpy')\n",
    "    \n",
    "    plt.show()"
   ]
  }
 ],
 "metadata": {
  "kernelspec": {
   "display_name": "Python 2",
   "language": "python",
   "name": "python2"
  },
  "language_info": {
   "codemirror_mode": {
    "name": "ipython",
    "version": 2
   },
   "file_extension": ".py",
   "mimetype": "text/x-python",
   "name": "python",
   "nbconvert_exporter": "python",
   "pygments_lexer": "ipython2",
   "version": "2.7.12"
  }
 },
 "nbformat": 4,
 "nbformat_minor": 2
}

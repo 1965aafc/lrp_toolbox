{
 "cells": [
  {
   "cell_type": "code",
   "execution_count": 1,
   "metadata": {},
   "outputs": [],
   "source": [
    "import types\n",
    "import matplotlib.pyplot as plt\n",
    "\n",
    "# mxnet imports\n",
    "import mxnet as     mx\n",
    "from   mxnet import nd\n",
    "from   mxnet import autograd\n",
    "from mxnet.gluon.nn.basic_layers import Activation\n",
    "\n",
    "# standalone lrp imports\n",
    "import numpy as np\n",
    "na = np.newaxis\n",
    "from mxmodules import Sequential, Linear, Rect, Tanh\n",
    "import model_io, data_io"
   ]
  },
  {
   "cell_type": "markdown",
   "metadata": {},
   "source": [
    "## Load Patched Functions"
   ]
  },
  {
   "cell_type": "code",
   "execution_count": 2,
   "metadata": {
    "collapsed": true
   },
   "outputs": [],
   "source": [
    "from mxlrp import dense_hybrid_forward_lrp\n",
    "\n",
    "def patch_lrp_gradient_dense(net):\n",
    "    for layer in net._children:\n",
    "        if layer.__class__.__name__ == 'Dense':\n",
    "            layer.hybrid_forward = types.MethodType(dense_hybrid_forward_lrp, layer)"
   ]
  },
  {
   "cell_type": "markdown",
   "metadata": {},
   "source": [
    "## Define Context"
   ]
  },
  {
   "cell_type": "code",
   "execution_count": 3,
   "metadata": {
    "collapsed": true
   },
   "outputs": [],
   "source": [
    "ctx = mx.cpu()"
   ]
  },
  {
   "cell_type": "markdown",
   "metadata": {},
   "source": [
    "## a) Dummy Network"
   ]
  },
  {
   "cell_type": "markdown",
   "metadata": {},
   "source": [
    "### 1. Model definition"
   ]
  },
  {
   "cell_type": "code",
   "execution_count": 4,
   "metadata": {
    "collapsed": true
   },
   "outputs": [],
   "source": [
    "## ######### ##\n",
    "# GLUON MODEL #\n",
    "## ######### ##\n",
    "\n",
    "net_gl = mx.gluon.nn.HybridSequential()\n",
    "\n",
    "dense_0 = mx.gluon.nn.Dense(units=12, in_units=4, activation='tanh')\n",
    "dense_1 = mx.gluon.nn.Dense(units= 1, in_units=12)\n",
    "\n",
    "net_gl.add(dense_0)\n",
    "net_gl.add(dense_1)\n",
    "\n",
    "net_gl.collect_params().initialize(ctx=ctx)\n",
    "\n",
    "# extract variables from gluon model\n",
    "weight_0 = dense_0.weight.data()\n",
    "bias_0   = dense_0.bias.data()\n",
    "\n",
    "weight_1 = dense_1.weight.data()\n",
    "bias_1   = dense_1.bias.data()\n",
    "\n",
    "## ############## ##\n",
    "# STANDALONE MODEL #\n",
    "## ############## ##\n",
    "\n",
    "net_sta = Sequential([Linear(4, 12), Tanh(), Linear(12, 1)])\n",
    "\n",
    "net_sta.modules[0].W = weight_0.T\n",
    "net_sta.modules[0].B = bias_0\n",
    "net_sta.modules[2].W = weight_1.T\n",
    "net_sta.modules[2].B = bias_1"
   ]
  },
  {
   "cell_type": "markdown",
   "metadata": {},
   "source": [
    "### 2. Patch gluon gradient to LRP"
   ]
  },
  {
   "cell_type": "code",
   "execution_count": 5,
   "metadata": {
    "collapsed": true
   },
   "outputs": [],
   "source": [
    "patch_lrp_gradient_dense(net_gl)"
   ]
  },
  {
   "cell_type": "markdown",
   "metadata": {},
   "source": [
    "### 3. Comparison with standalone implementation"
   ]
  },
  {
   "cell_type": "code",
   "execution_count": 6,
   "metadata": {},
   "outputs": [
    {
     "name": "stdout",
     "output_type": "stream",
     "text": [
      "Input:\n",
      "\n",
      "[[  0.   1.   2.   3.]\n",
      " [  4.   5.   6.   7.]\n",
      " [  8.   9.  10.  11.]]\n",
      "<NDArray 3x4 @cpu(0)>\n",
      "\n",
      "GLUON impl:\n",
      "\n",
      "[[-0.00355378]\n",
      " [-0.02960501]\n",
      " [-0.048284  ]]\n",
      "<NDArray 3x1 @cpu(0)>\n",
      "\n",
      "[[ 0.          0.00364889 -0.00259847 -0.0046042 ]\n",
      " [-0.03007531  0.01729889 -0.00631801 -0.01051059]\n",
      " [-0.05498287  0.02882986 -0.00622151 -0.01590948]]\n",
      "<NDArray 3x4 @cpu(0)>\n",
      "\n",
      "Standalone impl:\n",
      "\n",
      "[[-0.00355378]\n",
      " [-0.02960501]\n",
      " [-0.048284  ]]\n",
      "<NDArray 3x1 @cpu(0)>\n",
      "\n",
      "[[ 0.          0.00364889 -0.00259847 -0.0046042 ]\n",
      " [-0.03007531  0.01729889 -0.00631801 -0.01051059]\n",
      " [-0.05498287  0.02882986 -0.00622151 -0.01590948]]\n",
      "<NDArray 3x4 @cpu(0)>\n"
     ]
    }
   ],
   "source": [
    "# forward and backward pass test\n",
    "X = nd.arange(12).reshape((3, 4))\n",
    "\n",
    "print('Input:')\n",
    "print(X)\n",
    "\n",
    "X.attach_grad()\n",
    "with autograd.record():\n",
    "    dense_out = net_gl(X)\n",
    "\n",
    "dense_out.backward(dense_out)\n",
    "hm_gluon = X.grad\n",
    "    \n",
    "print('\\nGLUON impl:')\n",
    "print(dense_out)\n",
    "print(hm_gluon)\n",
    "\n",
    "print('\\nStandalone impl:')\n",
    "linear_out = net_sta.forward(X)\n",
    "hm_standalone  = net_sta.lrp(linear_out)\n",
    "print(linear_out)\n",
    "print(hm_standalone)"
   ]
  },
  {
   "cell_type": "markdown",
   "metadata": {
    "collapsed": true
   },
   "source": [
    "## b) Long-rect"
   ]
  },
  {
   "cell_type": "markdown",
   "metadata": {},
   "source": [
    "### 1. Model Definition"
   ]
  },
  {
   "cell_type": "code",
   "execution_count": 7,
   "metadata": {},
   "outputs": [
    {
     "name": "stdout",
     "output_type": "stream",
     "text": [
      "loading pickled model from ../models/MNIST/long-rect.nn\n"
     ]
    }
   ],
   "source": [
    "## ############## ##\n",
    "# STANDALONE MODEL #\n",
    "## ############## ##\n",
    "\n",
    "long_rect_sta = model_io.read('../models/MNIST/long-rect.nn') # 99.17% prediction accuracy\n",
    "\n",
    "# remove softmax layer for simplicity\n",
    "# TODO: add softmax layer treatment and remove this part\n",
    "long_rect_sta.modules = long_rect_sta.modules[:-1]"
   ]
  },
  {
   "cell_type": "code",
   "execution_count": 8,
   "metadata": {},
   "outputs": [
    {
     "name": "stdout",
     "output_type": "stream",
     "text": [
      "INPUT NETWORK:\n",
      "\n",
      "-----------------\n",
      "Linear\n",
      "W : (784, 1296)\n",
      "B : (1296,)\n",
      "-----------------\n",
      "Rect\n",
      "-----------------\n",
      "Linear\n",
      "W : (1296, 1296)\n",
      "B : (1296,)\n",
      "-----------------\n",
      "Rect\n",
      "-----------------\n",
      "Linear\n",
      "W : (1296, 1296)\n",
      "B : (1296,)\n",
      "-----------------\n",
      "Rect\n",
      "-----------------\n",
      "Linear\n",
      "W : (1296, 10)\n",
      "B : (10,)\n",
      "-----------------\n",
      "\n",
      "\n",
      "\n",
      "OUTPUT NETWORK:\n",
      "-----------------\n",
      "HybridSequential(\n",
      "  (0): Dense(784 -> 1296, Activation(relu))\n",
      "  (1): Dense(1296 -> 1296, Activation(relu))\n",
      "  (2): Dense(1296 -> 1296, Activation(relu))\n",
      "  (3): Dense(1296 -> 10, linear)\n",
      ")\n"
     ]
    }
   ],
   "source": [
    "## ######### ##\n",
    "# GLUON MODEL #\n",
    "## ######### ##\n",
    "def translate_to_gluon(nn_sta, ctx=mx.cpu()):\n",
    "\n",
    "    nn_gluon = mx.gluon.nn.HybridSequential()\n",
    "\n",
    "    print('INPUT NETWORK:\\n')\n",
    "    \n",
    "    print('-----------------')\n",
    "    for m_ind, mod in enumerate(nn_sta.modules):\n",
    "\n",
    "        if m_ind < len(nn_sta.modules) - 1:\n",
    "            next_module_name = nn_sta.modules[m_ind + 1].__class__.__name__\n",
    "        else:\n",
    "            next_module_name = None\n",
    "\n",
    "        \n",
    "        print(mod.__class__.__name__)\n",
    "\n",
    "        if mod.__class__.__name__ == 'Linear':\n",
    "\n",
    "            if next_module_name == 'Rect':\n",
    "                activation = 'relu'\n",
    "            else:\n",
    "                activation = None\n",
    "\n",
    "            weight = mod.W\n",
    "            bias   = mod.B\n",
    "\n",
    "            print('W : {}'.format(weight.shape))\n",
    "            print('B : {}'.format(bias.shape))\n",
    "            print('-----------------')\n",
    "\n",
    "            # reproduce Linear layer in gluon\n",
    "            dense = mx.gluon.nn.Dense(units=weight.shape[1], in_units=weight.shape[0], use_bias=True, activation=activation)\n",
    "            dense.collect_params().initialize(ctx=ctx)\n",
    "            dense.weight.set_data(weight.T)\n",
    "            dense.bias.set_data(bias)\n",
    "\n",
    "            nn_gluon.add(dense)\n",
    "            \n",
    "        else:\n",
    "            print('-----------------')\n",
    "    \n",
    "    print('\\n\\n')\n",
    "    \n",
    "    print('OUTPUT NETWORK:')\n",
    "    print('-----------------')\n",
    "    print(nn_gluon)\n",
    "    \n",
    "    return nn_gluon\n",
    "\n",
    "\n",
    "long_rect_gluon = translate_to_gluon(long_rect_sta, ctx)"
   ]
  },
  {
   "cell_type": "markdown",
   "metadata": {},
   "source": [
    "## 2. Patch Gluon Gradient to LRP"
   ]
  },
  {
   "cell_type": "code",
   "execution_count": 9,
   "metadata": {
    "collapsed": true
   },
   "outputs": [],
   "source": [
    "patch_lrp_gradient_dense(long_rect_gluon)"
   ]
  },
  {
   "cell_type": "markdown",
   "metadata": {},
   "source": [
    "### 3. Compare To Standalone Implementation "
   ]
  },
  {
   "cell_type": "code",
   "execution_count": 10,
   "metadata": {},
   "outputs": [
    {
     "name": "stdout",
     "output_type": "stream",
     "text": [
      "loading np-formatted data from ../data/MNIST/test_images.npy\n",
      "loading np-formatted data from ../data/MNIST/test_labels.npy\n"
     ]
    }
   ],
   "source": [
    "## ######## ##\n",
    "# LOAD MNIST #\n",
    "## ######## ##\n",
    "X = data_io.read('../data/MNIST/test_images.npy')\n",
    "Y = data_io.read('../data/MNIST/test_labels.npy')\n",
    "\n",
    "# transfer pixel values from [0 255] to [-1 1] to satisfy the expected input / training paradigm of the model\n",
    "X =  X / 127.5 - 1\n",
    "\n",
    "# transform numeric class labels to vector indicator for uniformity. assume presence of all classes within the label set\n",
    "I = Y[:,0].astype(int)\n",
    "Y = np.zeros([X.shape[0],np.unique(Y).size])\n",
    "Y[np.arange(Y.shape[0]),I] = 1"
   ]
  },
  {
   "cell_type": "code",
   "execution_count": 11,
   "metadata": {},
   "outputs": [],
   "source": [
    "yselect = 3\n",
    "yselect = (np.arange(Y.shape[1])[na,:] == yselect)*1.\n",
    "im = X[0][na,:]\n",
    "\n",
    "im_mx      = nd.array(im,      ctx=ctx)\n",
    "yselect_mx = nd.array(yselect, ctx=ctx) "
   ]
  },
  {
   "cell_type": "code",
   "execution_count": 25,
   "metadata": {},
   "outputs": [
    {
     "name": "stdout",
     "output_type": "stream",
     "text": [
      "Standalone prediction:\n",
      "[[ -9.48233082   1.7136009    4.67001061   6.85639303   1.97421727\n",
      "   -7.90581018 -18.26386241  22.67048759  -1.95408199   2.51839855]]\n",
      "Gluon prediction:\n",
      "[[ -9.48233318   1.71360111   4.67001486   6.85639334   1.97421873\n",
      "   -7.90581036 -18.26386261  22.67048836  -1.95408356   2.51839709]]\n",
      "\n",
      "\n",
      "Predictions the same: True\n",
      "Heatmaps    the same: True\n"
     ]
    },
    {
     "data": {
      "image/png": "[encoded data removed]",
      "text/plain": [
       "<matplotlib.figure.Figure at 0x7f9d442c49b0>"
      ]
     },
     "metadata": {},
     "output_type": "display_data"
    }
   ],
   "source": [
    "# standalone impl\n",
    "pred_sta   = long_rect_sta.forward(im)\n",
    "hm_sta     = long_rect_sta.lrp(yselect)\n",
    "\n",
    "# gluon impl\n",
    "im_mx.attach_grad()\n",
    "with autograd.record():\n",
    "    pred_gluon = long_rect_gluon(im_mx)\n",
    "pred_gluon.backward(yselect_mx)\n",
    "\n",
    "hm_gluon = im_mx.grad\n",
    "\n",
    "hm_gluon   = hm_gluon.asnumpy()\n",
    "pred_gluon = pred_gluon.asnumpy()\n",
    "\n",
    "print('Standalone prediction:')\n",
    "print(pred_sta)\n",
    "\n",
    "print('Gluon prediction:')\n",
    "print(pred_gluon)\n",
    "\n",
    "print('\\n')\n",
    "print('Predictions the same: {}'.format(np.allclose(pred_sta, pred_gluon)))\n",
    "print('Heatmaps    the same: {}'.format(np.allclose(hm_sta, hm_gluon)))\n",
    "\n",
    "fig = plt.figure(figsize=(20, 10))\n",
    "\n",
    "plt.subplot(1, 2, 1)\n",
    "plt.title('Standalone')\n",
    "plt.imshow(hm_sta.reshape(28, 28), interpolation='none')\n",
    "plt.colorbar()\n",
    "plt.axis('off')\n",
    "\n",
    "plt.subplot(1, 2, 2)\n",
    "plt.title('Gluon')\n",
    "plt.imshow(hm_gluon.reshape(28, 28), interpolation='none')\n",
    "plt.colorbar()\n",
    "plt.axis('off')\n",
    "\n",
    "plt.show()"
   ]
  },
  {
   "cell_type": "code",
   "execution_count": null,
   "metadata": {
    "collapsed": true
   },
   "outputs": [],
   "source": []
  }
 ],
 "metadata": {
  "kernelspec": {
   "display_name": "Python 3",
   "language": "python",
   "name": "python3"
  },
  "language_info": {
   "codemirror_mode": {
    "name": "ipython",
    "version": 3
   },
   "file_extension": ".py",
   "mimetype": "text/x-python",
   "name": "python",
   "nbconvert_exporter": "python",
   "pygments_lexer": "ipython3",
   "version": "3.5.2"
  }
 },
 "nbformat": 4,
 "nbformat_minor": 2
}

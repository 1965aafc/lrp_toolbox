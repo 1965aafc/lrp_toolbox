{
 "cells": [
  {
   "cell_type": "code",
   "execution_count": 1,
   "metadata": {},
   "outputs": [],
   "source": [
    "import types\n",
    "import matplotlib.pyplot as plt\n",
    "import time\n",
    "\n",
    "# mxnet imports\n",
    "import mxnet as     mx\n",
    "from   mxnet import nd\n",
    "from   mxnet import autograd\n",
    "from mxnet.gluon.nn.basic_layers import Activation\n",
    "\n",
    "# standalone lrp imports\n",
    "import numpy as np\n",
    "na = np.newaxis\n",
    "from mxmodules import Sequential, Linear, Rect, Tanh\n",
    "import model_io, data_io"
   ]
  },
  {
   "cell_type": "markdown",
   "metadata": {},
   "source": [
    "# LRP using GLUON Hybridblocks\n",
    "\n",
    "### Current functionality:\n",
    "- patch the hybrid_forward of dense layers with activation to enable lrp in the backward pass\n",
    "- normal run and hybridized run for fully-connected networks\n",
    "\n",
    "### Current issues:\n",
    "- not working with float 64, therefore not exacltly comparable to numpy version\n",
    "- extracting and running the symbolic program doesn't work - misunderstood it? \n",
    "\n",
    "### Other TODOS:\n",
    "- find better solution than block_grad method to change activation backward pass to identity"
   ]
  },
  {
   "cell_type": "markdown",
   "metadata": {},
   "source": [
    "## Load Patched Functions"
   ]
  },
  {
   "cell_type": "code",
   "execution_count": 2,
   "metadata": {},
   "outputs": [],
   "source": [
    "from mxlrp import dense_hybrid_forward_lrp\n",
    "\n",
    "def patch_lrp_gradient_dense(net):\n",
    "    for layer in net._children:\n",
    "        if layer.__class__.__name__ == 'Dense':\n",
    "            layer.hybrid_forward = types.MethodType(dense_hybrid_forward_lrp, layer)"
   ]
  },
  {
   "cell_type": "markdown",
   "metadata": {},
   "source": [
    "## Define Context"
   ]
  },
  {
   "cell_type": "code",
   "execution_count": 3,
   "metadata": {
    "collapsed": true
   },
   "outputs": [],
   "source": [
    "ctx = mx.gpu()\n",
    "\n",
    "\n",
    "# TODO: float64 doesn't work in patched backward pass\n",
    "# mxnet standard is float32, use float64 to compare with numpy results\n",
    "dtype='float32'"
   ]
  },
  {
   "cell_type": "markdown",
   "metadata": {},
   "source": [
    "## 1. Model Definition"
   ]
  },
  {
   "cell_type": "code",
   "execution_count": 4,
   "metadata": {},
   "outputs": [
    {
     "name": "stdout",
     "output_type": "stream",
     "text": [
      "loading pickled model from ../models/MNIST/long-rect.nn\n"
     ]
    }
   ],
   "source": [
    "## ############## ##\n",
    "# STANDALONE MODEL #\n",
    "## ############## ##\n",
    "\n",
    "long_rect_sta = model_io.read('../models/MNIST/long-rect.nn') # 99.17% prediction accuracy\n",
    "\n",
    "# remove softmax layer for simplicity\n",
    "# TODO: add softmax layer treatment and remove this part\n",
    "long_rect_sta.modules = long_rect_sta.modules[:-1]"
   ]
  },
  {
   "cell_type": "code",
   "execution_count": 5,
   "metadata": {},
   "outputs": [
    {
     "name": "stdout",
     "output_type": "stream",
     "text": [
      "INPUT NETWORK:\n",
      "\n",
      "-----------------\n",
      "Linear\n",
      "W : (784, 1296)\n",
      "B : (1296,)\n",
      "-----------------\n",
      "Rect\n",
      "-----------------\n",
      "Linear\n",
      "W : (1296, 1296)\n",
      "B : (1296,)\n",
      "-----------------\n",
      "Rect\n",
      "-----------------\n",
      "Linear\n",
      "W : (1296, 1296)\n",
      "B : (1296,)\n",
      "-----------------\n",
      "Rect\n",
      "-----------------\n",
      "Linear\n",
      "W : (1296, 10)\n",
      "B : (10,)\n",
      "-----------------\n",
      "\n",
      "\n",
      "\n",
      "OUTPUT NETWORK:\n",
      "-----------------\n",
      "HybridSequential(\n",
      "  (0): Dense(784 -> 1296, Activation(relu))\n",
      "  (1): Dense(1296 -> 1296, Activation(relu))\n",
      "  (2): Dense(1296 -> 1296, Activation(relu))\n",
      "  (3): Dense(1296 -> 10, linear)\n",
      ")\n"
     ]
    }
   ],
   "source": [
    "## ######### ##\n",
    "# GLUON MODEL #\n",
    "## ######### ##\n",
    "def translate_to_gluon(nn_sta, ctx=mx.cpu(), dtype='float32'):\n",
    "\n",
    "    nn_gluon = mx.gluon.nn.HybridSequential()\n",
    "\n",
    "    print('INPUT NETWORK:\\n')\n",
    "    \n",
    "    print('-----------------')\n",
    "    for m_ind, mod in enumerate(nn_sta.modules):\n",
    "\n",
    "        if m_ind < len(nn_sta.modules) - 1:\n",
    "            next_module_name = nn_sta.modules[m_ind + 1].__class__.__name__\n",
    "        else:\n",
    "            next_module_name = None\n",
    "\n",
    "        \n",
    "        print(mod.__class__.__name__)\n",
    "\n",
    "        if mod.__class__.__name__ == 'Linear':\n",
    "\n",
    "            if next_module_name == 'Rect':\n",
    "                activation = 'relu'\n",
    "            else:\n",
    "                activation = None\n",
    "\n",
    "            weight = mod.W\n",
    "            bias   = mod.B\n",
    "\n",
    "            print('W : {}'.format(weight.shape))\n",
    "            print('B : {}'.format(bias.shape))\n",
    "            print('-----------------')\n",
    "\n",
    "            # reproduce Linear layer in gluon\n",
    "            dense = mx.gluon.nn.Dense(units=weight.shape[1], in_units=weight.shape[0], use_bias=True, activation=activation)\n",
    "            dense.collect_params().initialize(ctx=ctx)\n",
    "            dense.weight.set_data(nd.array(weight.T, dtype=dtype))\n",
    "            dense.bias.set_data(  nd.array(bias,     dtype=dtype))\n",
    "\n",
    "            nn_gluon.add(dense)\n",
    "            \n",
    "        else:\n",
    "            print('-----------------')\n",
    "    \n",
    "    print('\\n\\n')\n",
    "    \n",
    "    print('OUTPUT NETWORK:')\n",
    "    print('-----------------')\n",
    "    print(nn_gluon)\n",
    "    \n",
    "    return nn_gluon\n",
    "\n",
    "\n",
    "long_rect_gluon = translate_to_gluon(long_rect_sta, ctx, dtype)"
   ]
  },
  {
   "cell_type": "markdown",
   "metadata": {},
   "source": [
    "## 2. Patch Gluon Gradient to LRP"
   ]
  },
  {
   "cell_type": "code",
   "execution_count": 6,
   "metadata": {
    "collapsed": true
   },
   "outputs": [],
   "source": [
    "patch_lrp_gradient_dense(long_rect_gluon)"
   ]
  },
  {
   "cell_type": "markdown",
   "metadata": {},
   "source": [
    "## 3. Compare To Standalone Implementation "
   ]
  },
  {
   "cell_type": "code",
   "execution_count": 7,
   "metadata": {},
   "outputs": [
    {
     "name": "stdout",
     "output_type": "stream",
     "text": [
      "loading np-formatted data from ../data/MNIST/test_images.npy\n",
      "loading np-formatted data from ../data/MNIST/test_labels.npy\n"
     ]
    }
   ],
   "source": [
    "## ######## ##\n",
    "# LOAD MNIST #\n",
    "## ######## ##\n",
    "X = data_io.read('../data/MNIST/test_images.npy')\n",
    "Y = data_io.read('../data/MNIST/test_labels.npy')\n",
    "\n",
    "X = X.astype(np.float32)\n",
    "Y = Y.astype(np.float32)\n",
    "\n",
    "# transfer pixel values from [0 255] to [-1 1] to satisfy the expected input / training paradigm of the model\n",
    "X =  X / 127.5 - 1\n",
    "\n",
    "# transform numeric class labels to vector indicator for uniformity. assume presence of all classes within the label set\n",
    "I = Y[:,0].astype(int)\n",
    "Y = np.zeros([X.shape[0],np.unique(Y).size])\n",
    "Y[np.arange(Y.shape[0]),I] = 1"
   ]
  },
  {
   "cell_type": "code",
   "execution_count": 8,
   "metadata": {},
   "outputs": [],
   "source": [
    "batch_size = 256\n",
    "yselect    = 3\n",
    "num_runs   = 10\n",
    "\n",
    "yselect = (np.arange(Y.shape[1])[na,:] == yselect) * np.ones((batch_size, Y.shape[1]))\n",
    "im = X[:batch_size]\n",
    "\n",
    "im_mx      = nd.array(im,      ctx=ctx, dtype=dtype)\n",
    "yselect_mx = nd.array(yselect, ctx=ctx, dtype=dtype) "
   ]
  },
  {
   "cell_type": "code",
   "execution_count": 9,
   "metadata": {},
   "outputs": [],
   "source": [
    "## ######## ##\n",
    "# STANDALONE #\n",
    "## ######## ##\n",
    "sta_times = []\n",
    "for i in range(num_runs):\n",
    "    strt = time.time()\n",
    "    \n",
    "    pred_sta   = long_rect_sta.forward(im)\n",
    "    hm_sta     = long_rect_sta.lrp(yselect)\n",
    "    \n",
    "    stp = time.time()\n",
    "    sta_times.append(stp-strt)\n",
    "sta_times = np.array(sta_times)\n",
    "time_sta = np.mean(sta_times)\n",
    "\n",
    "## ###### ##\n",
    "# GLUON ND #\n",
    "## ###### ##\n",
    "im_mx.attach_grad()\n",
    "\n",
    "gluon_times = []\n",
    "for i in range(num_runs):\n",
    "    strt = time.time()\n",
    "    with autograd.record():\n",
    "        pred_gluon = long_rect_gluon(im_mx)\n",
    "    pred_gluon.backward(yselect_mx)\n",
    "\n",
    "    hm_gluon = im_mx.grad\n",
    "\n",
    "    hm_gluon   = hm_gluon.asnumpy()\n",
    "    pred_gluon = pred_gluon.asnumpy()\n",
    "\n",
    "    stp = time.time()\n",
    "    gluon_times.append(stp-strt)\n",
    "gluon_times = np.array(gluon_times)\n",
    "time_gluon = np.mean(gluon_times)\n",
    "\n",
    "## ############## ##\n",
    "# GLUON HYBRIDIZED #\n",
    "## ############## ##\n",
    "long_rect_gluon.hybridize()\n",
    "\n",
    "hg_times = []\n",
    "for i in range(num_runs):\n",
    "    strt = time.time()\n",
    "    with autograd.record():\n",
    "        pred_hg = long_rect_gluon(im_mx)\n",
    "    pred_hg.backward(yselect_mx)\n",
    "\n",
    "    hm_hg = im_mx.grad\n",
    "\n",
    "    hm_hg   = hm_hg.asnumpy()\n",
    "    pred_hg = pred_hg.asnumpy()\n",
    "\n",
    "    stp = time.time()\n",
    "    hg_times.append(stp-strt)\n",
    "hg_times = np.array(hg_times)\n",
    "time_hg = np.mean(hg_times)"
   ]
  },
  {
   "cell_type": "markdown",
   "metadata": {},
   "source": [
    "### BENCHMARKS:"
   ]
  },
  {
   "cell_type": "code",
   "execution_count": 10,
   "metadata": {},
   "outputs": [],
   "source": [
    "# numerically compare heatmaps, check how much difference float32 (np) / float 64 (mx) makes\n",
    "prec_pred = -1\n",
    "while np.allclose(pred_sta, pred_hg, atol=10**(-prec_pred)):\n",
    "        prec_pred+=1\n",
    "prec_lrp  = -1\n",
    "while np.allclose(hm_sta, hm_hg, atol=10**(-prec_lrp)):\n",
    "        prec_lrp+=1"
   ]
  },
  {
   "cell_type": "code",
   "execution_count": 11,
   "metadata": {},
   "outputs": [
    {
     "name": "stdout",
     "output_type": "stream",
     "text": [
      "## ######## ##\n",
      "# EVALUATION #\n",
      "## ######## ##\n",
      "Comparison on Long-Rect network (4 fully-connected layers)\n",
      "\n",
      "1. TIME\n",
      "gluon running on gpu(0) averaged over 10 runs\n",
      "\n",
      "Standalone: calculated predictions and heatmaps for 256 images in 8.294691 s\n",
      "Gluon ND  : calculated predictions and heatmaps for 256 images in 0.210242 s\n",
      "Gluon HYB : calculated predictions and heatmaps for 256 images in 0.202478 s\n",
      "\n",
      "Speedup Gluon (non-hybridized): 39.453084 faster than standalone\n",
      "Speedup Gluon (    hybridized): 40.965838 faster than standalone\n",
      "\n",
      "2. RESULT\n",
      "Predictions are the same up to absolute tolerance 10e-6\n",
      "Relevances  are the same up to absolute tolerance 10e-2\n"
     ]
    }
   ],
   "source": [
    "print('## ######## ##')\n",
    "print('# EVALUATION #')\n",
    "print('## ######## ##')\n",
    "\n",
    "print('Comparison on Long-Rect network (4 fully-connected layers)\\n')\n",
    "\n",
    "print('1. TIME')\n",
    "\n",
    "print('gluon running on {} averaged over {} runs'.format(ctx, num_runs))\n",
    "print('')\n",
    "print('Standalone: calculated predictions and heatmaps for {} images in {:4f} s'.format(batch_size, time_sta))\n",
    "print('Gluon ND  : calculated predictions and heatmaps for {} images in {:4f} s'.format(batch_size, time_gluon))\n",
    "print('Gluon HYB : calculated predictions and heatmaps for {} images in {:4f} s'.format(batch_size, time_hg))\n",
    "print('')\n",
    "print('Speedup Gluon (non-hybridized): {:2f} faster than standalone'.format(time_sta / time_gluon))\n",
    "print('Speedup Gluon (    hybridized): {:2f} faster than standalone'.format(time_sta / time_hg))\n",
    "print('')\n",
    "\n",
    "print('2. RESULT')\n",
    "if prec_pred >= 0:\n",
    "    print('Predictions are the same up to absolute tolerance 10e-{}'.format(prec_pred))\n",
    "else:\n",
    "    print('ERROR: Standalone / Gluon predictions differ')\n",
    "if prec_lrp >= 0:\n",
    "    print('Relevances  are the same up to absolute tolerance 10e-{}'.format(prec_lrp))\n",
    "else:\n",
    "    print('ERROR: Standalone / Gluon lrp relevances differ')"
   ]
  },
  {
   "cell_type": "code",
   "execution_count": 12,
   "metadata": {
    "scrolled": false
   },
   "outputs": [
    {
     "name": "stdout",
     "output_type": "stream",
     "text": [
      "Standalone pred:\n",
      "[ -9.48233086   1.71360086   4.67001054   6.85639312   1.97421741\n",
      "  -7.9058102  -18.26386265  22.67048783  -1.95408201   2.51839859]\n",
      "Gluon      pred:\n",
      "[ -9.48233128   1.71359873   4.67001104   6.85639477   1.9742204\n",
      "  -7.90581131 -18.26386833  22.67049408  -1.95408142   2.51839566]\n"
     ]
    },
    {
     "data": {
      "image/png": "[encoded data removed]",
      "text/plain": [
       "<matplotlib.figure.Figure at 0x7f43c534c780>"
      ]
     },
     "metadata": {},
     "output_type": "display_data"
    },
    {
     "name": "stdout",
     "output_type": "stream",
     "text": [
      "Standalone pred:\n",
      "[  5.83397211e+00   3.85374902e+00   3.40239709e+01  -7.57432902e+00\n",
      "  -8.98199212e+00  -1.98392463e+01   8.54631480e-01   1.79442799e-02\n",
      "  -5.11117585e+00  -2.11245377e+00]\n",
      "Gluon      pred:\n",
      "[  5.83396816e+00   3.85375476e+00   3.40239830e+01  -7.57433224e+00\n",
      "  -8.98199463e+00  -1.98392429e+01   8.54632258e-01   1.79470778e-02\n",
      "  -5.11118126e+00  -2.11245155e+00]\n"
     ]
    },
    {
     "data": {
      "image/png": "[encoded data removed]",
      "text/plain": [
       "<matplotlib.figure.Figure at 0x7f42edf37da0>"
      ]
     },
     "metadata": {},
     "output_type": "display_data"
    },
    {
     "name": "stdout",
     "output_type": "stream",
     "text": [
      "Standalone pred:\n",
      "[ -6.40243205  24.28400647  -3.92706751  -5.12073435   2.33981446\n",
      "  -8.09535567   2.72465504   5.80491028  -0.54311993  -9.12971107]\n",
      "Gluon      pred:\n",
      "[ -6.40243244  24.28398705  -3.92706871  -5.12072992   2.33981156\n",
      "  -8.09535313   2.72465372   5.80491161  -0.543118    -9.12971783]\n"
     ]
    },
    {
     "data": {
      "image/png": "[encoded data removed]",
      "text/plain": [
       "<matplotlib.figure.Figure at 0x7f42f30a40b8>"
      ]
     },
     "metadata": {},
     "output_type": "display_data"
    }
   ],
   "source": [
    "num_images = 3\n",
    "\n",
    "for i in range(num_images):\n",
    "\n",
    "    print('Standalone pred:\\n{}'.format(pred_sta[i]))\n",
    "    print('Gluon      pred:\\n{}'.format(pred_gluon[i]))\n",
    "    \n",
    "    fig = plt.figure(figsize=(20, 10))\n",
    "\n",
    "    plt.subplot(1, 2, 1)\n",
    "    plt.title('Standalone')\n",
    "    plt.imshow(hm_sta[i].reshape(28, 28), interpolation='none')\n",
    "    plt.colorbar()\n",
    "    plt.axis('off')\n",
    "\n",
    "    plt.subplot(1, 2, 2)\n",
    "    plt.title('Gluon')\n",
    "    plt.imshow(hm_hg[i].reshape(28, 28), interpolation='none')\n",
    "    plt.colorbar()\n",
    "    plt.axis('off')\n",
    "\n",
    "    plt.show()"
   ]
  }
 ],
 "metadata": {
  "kernelspec": {
   "display_name": "Python 3",
   "language": "python",
   "name": "python3"
  },
  "language_info": {
   "codemirror_mode": {
    "name": "ipython",
    "version": 3
   },
   "file_extension": ".py",
   "mimetype": "text/x-python",
   "name": "python",
   "nbconvert_exporter": "python",
   "pygments_lexer": "ipython3",
   "version": "3.5.2"
  }
 },
 "nbformat": 4,
 "nbformat_minor": 2
}
